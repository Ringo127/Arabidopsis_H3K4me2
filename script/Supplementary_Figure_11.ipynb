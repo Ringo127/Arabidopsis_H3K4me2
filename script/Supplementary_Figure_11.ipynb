{
 "cells": [
  {
   "cell_type": "code",
   "execution_count": null,
   "id": "2053af05-3032-4cd8-91eb-52c71e3a4c34",
   "metadata": {},
   "outputs": [],
   "source": [
    "# import library\n",
    "import numpy as np\n",
    "import pandas as pd\n",
    "import matplotlib.pyplot as plt\n",
    "import seaborn as sns\n",
    "import random\n",
    "from matplotlib_venn import venn2\n",
    "import scipy\n",
    "from scipy.stats import mannwhitneyu"
   ]
  },
  {
   "cell_type": "code",
   "execution_count": null,
   "id": "c30d04af-3a39-453d-b8b2-51de665fef5e",
   "metadata": {},
   "outputs": [],
   "source": [
    "# setting\n",
    "plt.rcParams['font.family']= 'sans-serif'\n",
    "plt.rcParams['font.sans-serif'] = ['Arial']\n",
    "plt.rcParams['font.size'] = 18\n",
    "plt.rcParams[\"figure.dpi\"] = 200"
   ]
  },
  {
   "cell_type": "code",
   "execution_count": null,
   "id": "90bc6c50-2b95-4eb5-911e-196db55e8368",
   "metadata": {},
   "outputs": [],
   "source": [
    "# Time-course ChIP-seq data in WT and ldl3\n",
    "file_path = \"../data/ChIP-seq/Time-course-ChIP_WT_ldl3_rep1.rpkm.tsv\"\n",
    "df_chip = pd.read_csv(file_path, sep=\"\\t\", index_col=0)\n",
    "df_chip.head()"
   ]
  },
  {
   "cell_type": "code",
   "execution_count": null,
   "id": "b993385f-4e4f-47a7-b33e-692268185095",
   "metadata": {},
   "outputs": [],
   "source": [
    "# list of H3K4me2 diel oscillating genes (DOGs)\n",
    "file_path = f\"../data/list_of_DOGs/H3K4me2_DOGs.bed\"\n",
    "H3K4me2_DOGs = pd.read_csv(file_path,sep=\"\\t\",header=None).iloc[:,3].values\n",
    "\n",
    "# list of LDL3-target genes\n",
    "ldl3_target = pd.read_csv(\"../data/list_of_target_genes/LDL3-target(n=7115).bed\",sep=\"\\t\",header=None).iloc[:,3]"
   ]
  },
  {
   "cell_type": "code",
   "execution_count": null,
   "id": "b48328e8-9e08-43b5-9f59-526aa7af2bc0",
   "metadata": {},
   "outputs": [],
   "source": [
    "# Supplementary Fig. 11a\n",
    "venn2([set(H3K4me2_DOGs),set(ldl3_target)],\n",
    "      set_colors=[\"red\",\"blue\"],\n",
    "      set_labels=[\"H3K4me2 DOGs\",\"LDL3-target\"])\n",
    "\n",
    "\n",
    "N = 27443 # All protein-coding genes\n",
    "n1 = len(H3K4me2_DOGs)\n",
    "n2 = len(ldl3_target)\n",
    "m = len(set(H3K4me2_DOGs)&set(ldl3_target))\n",
    "\n",
    "# Fisher's exact test\n",
    "p = scipy.stats.fisher_exact(np.array([[m, n1-m],\n",
    "                                       [n2-m,N-(n1+n2-m)]]),\n",
    "                             alternative='greater')[1]\n",
    "print(f\"p={p:.3e}\")"
   ]
  },
  {
   "cell_type": "code",
   "execution_count": null,
   "id": "9303b696-1278-4cbc-a451-dd1a7a7e6e1d",
   "metadata": {},
   "outputs": [],
   "source": [
    "# Supplementary Fig. 11b\n",
    "label_list = [\"Amplitude\",\"Max\",\"Min\"]\n",
    "\n",
    "max_list = [20,40,40]\n",
    "min_list = [-20,-40,-40]\n",
    "\n",
    "mask_h3k4me2_dogs = df_chip.index.isin(H3K4me2_DOGs)\n",
    "mask_ldl3_target = df_chip.index.isin(ldl3_target)\n",
    "mask1 = mask_h3k4me2_dogs & mask_ldl3_target # n=199\n",
    "mask2 = mask_h3k4me2_dogs & ~mask_ldl3_target # n=582\n",
    "print(mask1.sum(),mask2.sum())\n",
    "\n",
    "fig, ax = plt.subplots(1,3,figsize=(15,5))\n",
    "for i in range(3):\n",
    "    # H3K4me2 in WT and ldl3\n",
    "    df_wt = df_chip.iloc[:,4:8]\n",
    "    df_mt = df_chip.iloc[:,20:24]\n",
    "\n",
    "    # calculation of amplitude, max, and min\n",
    "    ser_wt = None\n",
    "    ser_mt = None\n",
    "    \n",
    "    if i == 0:\n",
    "        ser_wt = df_wt.max(axis=1) - df_wt.min(axis=1)\n",
    "        ser_mt = df_mt.max(axis=1) - df_mt.min(axis=1)\n",
    "    if i == 1:\n",
    "        ser_wt = df_wt.max(axis=1)\n",
    "        ser_mt = df_mt.max(axis=1)\n",
    "    if i == 2:\n",
    "        ser_wt = df_wt.min(axis=1)\n",
    "        ser_mt = df_mt.min(axis=1)\n",
    "\n",
    "    # H3K4me2 DOGs and LDL3-target\n",
    "    a = ser_wt[mask1]\n",
    "    b = ser_mt[mask1]\n",
    "    \n",
    "    # H3K4me2 DOGs but not LDL3-target\n",
    "    c = ser_wt[mask2]\n",
    "    d = ser_mt[mask2]\n",
    "\n",
    "    # change (ldl3 - WT)\n",
    "    e = b-a\n",
    "    f = d-c\n",
    "\n",
    "    # plot\n",
    "    sns.violinplot({\"1\":f,\n",
    "                    \"2\":e},\n",
    "                   palette = [\"tab:grey\",\"tab:orange\"],\n",
    "                   fill=False,\n",
    "                   cut=0,\n",
    "                   ax=ax[i],\n",
    "                   inner_kws=dict(box_width=10,whis_width=2,),\n",
    "               )\n",
    "\n",
    "    # format figure\n",
    "    ax[i].set_ylim(min_list[i],max_list[i])\n",
    "    ax[i].spines['right'].set_visible(False)\n",
    "    ax[i].spines['top'].set_visible(False)\n",
    "    ax[i].hlines(0,-0.5,1.5,color=\"black\",linestyle=\"--\",zorder=0)\n",
    "    ax[i].set_xlim(-0.5,1.5)\n",
    "    ax[i].set_xticks([0,1])\n",
    "    ax[i].set_xticklabels([])\n",
    "    ax[i].set_title(label_list[i])\n",
    "    \n",
    "    # Mann-Whitney U test\n",
    "    p = mannwhitneyu(f, e, alternative=\"two-sided\")[1]\n",
    "    print(f\"{label_list[i]:10s} p={p:.2e}\")"
   ]
  }
 ],
 "metadata": {
  "kernelspec": {
   "display_name": "Python 3 (ipykernel)",
   "language": "python",
   "name": "python3"
  },
  "language_info": {
   "codemirror_mode": {
    "name": "ipython",
    "version": 3
   },
   "file_extension": ".py",
   "mimetype": "text/x-python",
   "name": "python",
   "nbconvert_exporter": "python",
   "pygments_lexer": "ipython3",
   "version": "3.9.2"
  }
 },
 "nbformat": 4,
 "nbformat_minor": 5
}
