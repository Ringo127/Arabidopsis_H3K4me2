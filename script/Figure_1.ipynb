{
 "cells": [
  {
   "cell_type": "code",
   "execution_count": null,
   "id": "7eb2181c-b2c4-4dad-a2ba-efce18dfbb93",
   "metadata": {},
   "outputs": [],
   "source": [
    "# import library\n",
    "import numpy as np\n",
    "import pandas as pd\n",
    "import matplotlib.pyplot as plt\n",
    "import seaborn as sns\n",
    "from scipy.stats import gaussian_kde\n",
    "from mpl_toolkits.axes_grid1 import make_axes_locatable"
   ]
  },
  {
   "cell_type": "code",
   "execution_count": null,
   "id": "5ec9cafc-2bf1-41ef-b36a-8ff3c58841bf",
   "metadata": {},
   "outputs": [],
   "source": [
    "# setting\n",
    "plt.rcParams['font.family']= 'sans-serif'\n",
    "plt.rcParams['font.sans-serif'] = ['Arial']\n",
    "plt.rcParams[\"figure.dpi\"] = 200"
   ]
  },
  {
   "cell_type": "code",
   "execution_count": null,
   "id": "2cb4f2bb-bc87-4b55-a7b5-a5cf0888f678",
   "metadata": {},
   "outputs": [],
   "source": [
    "# Fig. 1b\n",
    "file_path = \"../data/ChIP_H3K4me2_H2A.Z_H2Aub_H3K27me3_WT.rpkm.tsv\"\n",
    "df_chip = pd.read_csv(file_path, sep=\"\\t\", index_col=0)"
   ]
  },
  {
   "cell_type": "code",
   "execution_count": null,
   "id": "86a04361-a99a-47e5-9f23-384bc40c4ced",
   "metadata": {},
   "outputs": [],
   "source": [
    "hm_list = [\"H2A.Z\",\"H2Aub\",\"H3K27me3\"]\n",
    "\n",
    "fig,ax = plt.subplots(1,3,figsize=(15,7),gridspec_kw=dict(wspace=0.3))\n",
    "\n",
    "for i in range(len(hm_list)):\n",
    "    x = np.sqrt(df_chip[f\"H3K4me2_WT\"])\n",
    "    y = np.sqrt(df_chip[f\"{hm_list[i]}_WT\"])\n",
    "\n",
    "    # calculate KDE\n",
    "    data = np.vstack([x,y])\n",
    "    kde = gaussian_kde(data)\n",
    "    density = kde(data)\n",
    "\n",
    "    # plot\n",
    "    sc = ax[i].scatter(x, y, c=density, s=1, cmap='viridis', vmin=0, vmax=0.2)\n",
    "\n",
    "    # color bar\n",
    "    divider = make_axes_locatable(ax[i])\n",
    "    cax = divider.append_axes(\"bottom\", size=\"5%\", pad=0.2)\n",
    "    fig.colorbar(sc, label='Density', cax=cax, orientation='horizontal')\n",
    "\n",
    "    # format figure\n",
    "    ax[i].set_xlim(0,np.percentile(x,99))\n",
    "    ax[i].set_ylim(0,np.percentile(y,99))\n",
    "    ax[i].set_xlabel(f\"H3K4me2\")\n",
    "    ax[i].set_ylabel(f\"{hm_list[i]}\")\n",
    "    ax[i].set_box_aspect(1)"
   ]
  },
  {
   "cell_type": "code",
   "execution_count": null,
   "id": "ae3d8f75-eedf-42bd-bee2-f65681f96923",
   "metadata": {},
   "outputs": [],
   "source": [
    "# Figure 1c\n",
    "hm_list = [\"H2A.Z\",\"H2Aub\",\"H3K27me3\",]\n",
    "\n",
    "fig,ax = plt.subplots(1,3,figsize=(15,7),gridspec_kw=dict(wspace=0.3))\n",
    "\n",
    "for i in range(3):\n",
    "    hm1 = \"H3K4me2\"\n",
    "    hm2 = hm_list[i]\n",
    "    df_r = pd.read_csv(f\"../data/Fig1c_spearmanr_per_bins_{hm1}_{hm2}.csv\",\n",
    "                       header=None)\n",
    "\n",
    "    # plot\n",
    "    df_r = df_r.iloc[::-1,:]\n",
    "    sns.heatmap(df_r,cmap=\"jet\",ax=ax[i],center=0,\n",
    "                cbar=True,cbar_kws={\"orientation\":\"horizontal\"})\n",
    "\n",
    "    # format figure \n",
    "    ax[i].set_xlabel(hm2)\n",
    "    ax[i].set_ylabel(hm1)\n",
    "    ax[i].set_aspect('equal', adjustable='box')\n",
    "    ax[i].set_xticks(np.arange(0,101,25))\n",
    "    ax[i].set_yticks(np.arange(0,101,25))\n",
    "    ax[i].set_xticklabels([\"TSS\",\"25%\",\"50%\",\"75%\",\"TES\"],rotation=0)\n",
    "    ax[i].set_yticklabels([\"TES\",\"75%\",\"50%\",\"25%\",\"TSS\"],rotation=0)\n",
    "    ax[i].grid()\n",
    "    for spine in ax[i].spines.values():\n",
    "        spine.set_visible(True)\n",
    "        spine.set_linewidth(1)"
   ]
  },
  {
   "cell_type": "code",
   "execution_count": null,
   "id": "939d6eeb-e51e-4ae0-b5a6-55a1f78bdf91",
   "metadata": {},
   "outputs": [],
   "source": [
    "# Figure 1d\n",
    "df_r = pd.read_csv(f\"../data/Fig1d_spearmanr_per_genes.csv\",\n",
    "                    header=0)\n",
    "\n",
    "hm_list = [\"H2A.Z\",\"H2Aub\",\"H3K27me3\"]\n",
    "c_list = [\"tab:red\",\"tab:green\",\"tab:blue\"]\n",
    "\n",
    "plt.figure(figsize=(6,4))\n",
    "\n",
    "for i in range(3):\n",
    "    hm1 = \"H3K4me2\"\n",
    "    hm2 = hm_list[i]\n",
    "    data = df_r[f\"{hm1}-{hm2}\"]\n",
    "\n",
    "    # plot\n",
    "    sns.histplot(data,bins=100,binrange=(-1,1),label=hm_list[i],\n",
    "                 element=\"step\",alpha=0.2,\n",
    "                 color=c_list[i])\n",
    "\n",
    "plt.legend(loc='upper left', bbox_to_anchor=(1, 1))\n",
    "plt.xlabel(\"Spearman's R\")\n",
    "plt.ylabel(\"Number of genes\")"
   ]
  }
 ],
 "metadata": {
  "kernelspec": {
   "display_name": "Python 3 (ipykernel)",
   "language": "python",
   "name": "python3"
  },
  "language_info": {
   "codemirror_mode": {
    "name": "ipython",
    "version": 3
   },
   "file_extension": ".py",
   "mimetype": "text/x-python",
   "name": "python",
   "nbconvert_exporter": "python",
   "pygments_lexer": "ipython3",
   "version": "3.9.2"
  }
 },
 "nbformat": 4,
 "nbformat_minor": 5
}
