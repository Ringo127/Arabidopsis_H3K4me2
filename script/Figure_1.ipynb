{
 "cells": [
  {
   "cell_type": "code",
   "execution_count": 3,
   "id": "2cb4f2bb-bc87-4b55-a7b5-a5cf0888f678",
   "metadata": {},
   "outputs": [],
   "source": [
    "# Fig. 1b\n",
    "file_path = \"../data/\"\n",
    "df = pd.read_csv(file_path)"
   ]
  },
  {
   "cell_type": "code",
   "execution_count": null,
   "id": "d18613b3-b1e3-4490-917b-48b2291ce117",
   "metadata": {},
   "outputs": [],
   "source": []
  }
 ],
 "metadata": {
  "kernelspec": {
   "display_name": "Python 3 (ipykernel)",
   "language": "python",
   "name": "python3"
  },
  "language_info": {
   "codemirror_mode": {
    "name": "ipython",
    "version": 3
   },
   "file_extension": ".py",
   "mimetype": "text/x-python",
   "name": "python",
   "nbconvert_exporter": "python",
   "pygments_lexer": "ipython3",
   "version": "3.9.2"
  }
 },
 "nbformat": 4,
 "nbformat_minor": 5
}
