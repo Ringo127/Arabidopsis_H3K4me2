{
 "cells": [
  {
   "cell_type": "code",
   "execution_count": null,
   "id": "09d3df41-4343-4818-ada0-20b4c5150432",
   "metadata": {},
   "outputs": [],
   "source": [
    "# import library\n",
    "import numpy as np\n",
    "import pandas as pd\n",
    "import matplotlib.pyplot as plt\n",
    "import seaborn as sns"
   ]
  },
  {
   "cell_type": "code",
   "execution_count": null,
   "id": "821ad402-9265-4f6f-a262-afd453df1a87",
   "metadata": {},
   "outputs": [],
   "source": [
    "# setting\n",
    "plt.rcParams['font.family']= 'sans-serif'\n",
    "plt.rcParams['font.sans-serif'] = ['Arial']\n",
    "plt.rcParams['font.size'] = 18\n",
    "plt.rcParams[\"figure.dpi\"] = 200"
   ]
  },
  {
   "cell_type": "code",
   "execution_count": null,
   "id": "9a48b216-75c5-400e-b1f7-820ec441894c",
   "metadata": {},
   "outputs": [],
   "source": [
    "# data\n",
    "file_path1 = \"../data/ChIP-seq/ChIP_H3K4me2_H2A.Z_H2Aub_H3K27me3_WT_jmj_clf.rpkm.tsv\"\n",
    "df_chip1 = pd.read_csv(file_path1, sep=\"\\t\", index_col=0)\n",
    "\n",
    "file_path2 = \"../data/ChIP-seq/ChIP_H3K4me2_H2A.Z_WT_arp6_pie1.rpkm.tsv\"\n",
    "df_chip2 = pd.read_csv(file_path2, sep=\"\\t\", index_col=0)\n",
    "\n",
    "file_path3 = \"../data/ChIP-seq/ChIP_H3K4me2_H2A.Z_H2Aub_WT_bmi1abc.rpkm.tsv\"\n",
    "df_chip3 = pd.read_csv(file_path3, sep=\"\\t\", index_col=0)"
   ]
  },
  {
   "cell_type": "code",
   "execution_count": null,
   "id": "85048c8d-b6dc-4c43-9b77-2510d81dcb8d",
   "metadata": {},
   "outputs": [],
   "source": [
    "# target genes\n",
    "jmj_target = pd.read_csv(\"../data/list_of_target_genes/JMJ-target(n=2160).bed\",sep=\"\\t\",header=None).iloc[:,3]\n",
    "clf_target = pd.read_csv(\"../data/list_of_target_genes/CLF-target(n=3048).bed\",sep=\"\\t\",header=None).iloc[:,3]\n",
    "swr1_target = pd.read_csv(\"../data/list_of_target_genes/SWR1-C-target(n=6096).bed\",sep=\"\\t\",header=None).iloc[:,3]\n",
    "bmi1_target = pd.read_csv(\"../data/list_of_target_genes/BMI1-target(n=4982).bed\",sep=\"\\t\",header=None).iloc[:,3]"
   ]
  },
  {
   "cell_type": "code",
   "execution_count": null,
   "id": "3c1cb78a-efc7-4a42-8a4c-225ab9dd74ea",
   "metadata": {},
   "outputs": [],
   "source": [
    "# Supplementary Fig. 5c\n",
    "mask = df_chip3.index.isin(bmi1_target)\n",
    "fig, ax = plt.subplots(1,1,figsize=(4,4))\n",
    "\n",
    "hm = \"H2A.Z\"\n",
    "gt = \"bmi1abc\"\n",
    "        \n",
    "# plot\n",
    "# non target genes\n",
    "sns.scatterplot(data=df_chip3[~mask],\n",
    "                x=f\"{hm}_WT_rep1\",\n",
    "                y=f\"{hm}_{gt}_rep1\",\n",
    "                s=2,alpha=0.5,ax=ax,color=\"tab:grey\")\n",
    "# target genes\n",
    "sns.scatterplot(data=df_chip3[mask],\n",
    "                x=f\"{hm}_WT_rep1\",\n",
    "                y=f\"{hm}_{gt}_rep1\",\n",
    "                s=2,alpha=0.5,ax=ax,color=\"blue\")\n",
    "\n",
    "# format figure\n",
    "x = df_chip3[f\"{hm}_WT_rep1\"]\n",
    "ax.set_xlim(0,np.percentile(x,99))\n",
    "ax.set_ylim(0,np.percentile(x,99))\n",
    "#ax.set_title(hm)\n",
    "ax.set_xlabel(\"WT\")\n",
    "ax.set_ylabel(gt)\n",
    "ax.set_aspect('equal', adjustable='box')"
   ]
  },
  {
   "cell_type": "code",
   "execution_count": null,
   "id": "16a87b67-d994-4a6f-93ac-0f3b69982725",
   "metadata": {},
   "outputs": [],
   "source": [
    "# Supplementary Fig. 5d, h\n",
    "mask = df_chip1.index.isin(jmj_target)\n",
    "hm_list = [\"H2A.Z\",\"H2Aub\"]\n",
    "\n",
    "for hm in hm_list:\n",
    "    fig, ax = plt.subplots(1,1,figsize=(4,4))\n",
    "    gt = \"jmj\"\n",
    "            \n",
    "    # plot\n",
    "    # non target genes\n",
    "    sns.scatterplot(data=df_chip1[~mask],\n",
    "                    x=f\"{hm}_WT_rep1\",\n",
    "                    y=f\"{hm}_{gt}_rep1\",\n",
    "                    s=2,alpha=0.5,ax=ax,color=\"tab:grey\")\n",
    "    # target genes\n",
    "    sns.scatterplot(data=df_chip1[mask],\n",
    "                    x=f\"{hm}_WT_rep1\",\n",
    "                    y=f\"{hm}_{gt}_rep1\",\n",
    "                    s=2,alpha=0.5,ax=ax,color=\"tab:red\")\n",
    "    \n",
    "    # format figure\n",
    "    x = df_chip1[f\"{hm}_WT_rep1\"]\n",
    "    ax.set_xlim(0,np.percentile(x,99))\n",
    "    ax.set_ylim(0,np.percentile(x,99))\n",
    "    ax.set_title(hm)\n",
    "    ax.set_aspect('equal', adjustable='box')"
   ]
  },
  {
   "cell_type": "code",
   "execution_count": null,
   "id": "0bce4570-063c-4590-8df3-fa2bef96f3e4",
   "metadata": {},
   "outputs": [],
   "source": [
    "# Supplementary Fig. 5f, j\n",
    "mask = df_chip1.index.isin(clf_target)\n",
    "hm_list = [\"H2A.Z\",\"H2Aub\"]\n",
    "\n",
    "for hm in hm_list:\n",
    "    fig, ax = plt.subplots(1,1,figsize=(4,4))\n",
    "    gt = \"clf\"\n",
    "            \n",
    "    # plot\n",
    "    # non target genes\n",
    "    sns.scatterplot(data=df_chip1[~mask],\n",
    "                    x=f\"{hm}_WT_rep1\",\n",
    "                    y=f\"{hm}_{gt}_rep1\",\n",
    "                    s=2,alpha=0.5,ax=ax,color=\"tab:grey\")\n",
    "    # target genes\n",
    "    sns.scatterplot(data=df_chip1[mask],\n",
    "                    x=f\"{hm}_WT_rep1\",\n",
    "                    y=f\"{hm}_{gt}_rep1\",\n",
    "                    s=2,alpha=0.5,ax=ax,color=\"blue\")\n",
    "    \n",
    "    # format figure\n",
    "    x = df_chip1[f\"{hm}_WT_rep1\"]\n",
    "    ax.set_xlim(0,np.percentile(x,99))\n",
    "    ax.set_ylim(0,np.percentile(x,99))\n",
    "    ax.set_title(hm)\n",
    "    ax.set_aspect('equal', adjustable='box')"
   ]
  },
  {
   "cell_type": "code",
   "execution_count": null,
   "id": "8ec67d43-4aaa-4a4d-9a98-e8fbe33aef4e",
   "metadata": {},
   "outputs": [],
   "source": []
  },
  {
   "cell_type": "code",
   "execution_count": null,
   "id": "bf05b42b-59c7-479e-87e7-1e3c57b8e8fe",
   "metadata": {},
   "outputs": [],
   "source": []
  }
 ],
 "metadata": {
  "kernelspec": {
   "display_name": "Python 3 (ipykernel)",
   "language": "python",
   "name": "python3"
  },
  "language_info": {
   "codemirror_mode": {
    "name": "ipython",
    "version": 3
   },
   "file_extension": ".py",
   "mimetype": "text/x-python",
   "name": "python",
   "nbconvert_exporter": "python",
   "pygments_lexer": "ipython3",
   "version": "3.9.2"
  }
 },
 "nbformat": 4,
 "nbformat_minor": 5
}
