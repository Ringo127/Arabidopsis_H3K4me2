{
 "cells": [
  {
   "cell_type": "code",
   "execution_count": null,
   "id": "29db4eef-c3e8-43d8-853c-7ad0dec38d7d",
   "metadata": {},
   "outputs": [],
   "source": [
    "# import library\n",
    "import numpy as np\n",
    "import pandas as pd\n",
    "import matplotlib.pyplot as plt\n",
    "import seaborn as sns\n",
    "from scipy.stats import spearmanr"
   ]
  },
  {
   "cell_type": "code",
   "execution_count": null,
   "id": "59b058cd-0c35-4fb0-a2bb-06dd306431ef",
   "metadata": {},
   "outputs": [],
   "source": [
    "# setting\n",
    "plt.rcParams['font.family']= 'sans-serif'\n",
    "plt.rcParams['font.sans-serif'] = ['Arial']\n",
    "plt.rcParams[\"figure.dpi\"] = 200"
   ]
  },
  {
   "cell_type": "code",
   "execution_count": null,
   "id": "46f54aa6-bca8-44c5-993d-0d84805fbe3f",
   "metadata": {},
   "outputs": [],
   "source": [
    "# Supplementary Fig. 1a\n",
    "file_path1 = \"../data/ChIP-seq/ChIP_H3K4me123_WT.rpkm.tsv\"\n",
    "df_chip1 = pd.read_csv(file_path1, sep=\"\\t\", index_col=0)\n",
    "\n",
    "file_path2 = \"../data/ChIP-seq/ChIP_H3K4me2_H2A.Z_H2Aub_H3K27me3_WT.rpkm.tsv\"\n",
    "df_chip2 = pd.read_csv(file_path2, sep=\"\\t\", index_col=0)"
   ]
  },
  {
   "cell_type": "code",
   "execution_count": null,
   "id": "76a1d980-c572-43f4-9990-2b3c2c0f13be",
   "metadata": {
    "scrolled": true
   },
   "outputs": [],
   "source": [
    "hm_list1 = [\"H2A.Z\",\"H2Aub\",\"H3K27me3\"]\n",
    "hm_list2 = [\"H3K4me1\",\"H3K4me2\",\"H3K4me3\"]\n",
    "\n",
    "fig,ax = plt.subplots(3,3,figsize=(12,12),sharex=\"col\",sharey=\"row\")\n",
    "for i,hm1 in enumerate(hm_list1):\n",
    "    for j,hm2 in enumerate(hm_list2):\n",
    "        x = np.sqrt(df_chip1[f\"{hm2}_WT\"])\n",
    "        y = np.sqrt(df_chip2[f\"{hm1}_WT\"])\n",
    "\n",
    "        # plot\n",
    "        sns.scatterplot(x=x,y=y,s=1,alpha=0.5,c=\"k\",ax=ax[i][j])\n",
    "\n",
    "        # fomat figures\n",
    "        ax[i][j].set_xlim(0,np.percentile(x,99.9))\n",
    "        ax[i][j].set_ylim(0,np.percentile(y,99.9))\n",
    "\n",
    "        # Spearman's R\n",
    "        r,p = spearmanr(x,y)\n",
    "        if r<0:\n",
    "            ax[i][j].set_title(\"$\\it{ρ}$\"+f\" = –{r*(-1):4.3}\")\n",
    "        else:\n",
    "            ax[i][j].set_title(\"$\\it{ρ}$\"+f\" = {r:4.3}\")"
   ]
  },
  {
   "cell_type": "code",
   "execution_count": null,
   "id": "aa027596-2a6e-4393-9b13-a7e483035cfc",
   "metadata": {},
   "outputs": [],
   "source": [
    "# Supplementary Fig. 1b\n",
    "hm1_list = [\"H3K4me1\",\"H3K4me2\",\"H3K4me3\"]\n",
    "hm2_list = [\"H2A.Z\",\"H2Aub\",\"H3K27me3\",]\n",
    "vmax_list = [0.8,0.7,0.3]\n",
    "vmin_list = [-0.4,-0.1,-0.5]\n",
    "\n",
    "for hm1 in hm1_list:\n",
    "    fig,ax = plt.subplots(1,3,figsize=(15,7),dpi=200,\n",
    "                      gridspec_kw=dict(wspace=0.3))\n",
    "    for i in range(3):\n",
    "        hm2 = hm2_list[i]\n",
    "        df_r = pd.read_csv(f\"../data/Supplementary_Figure_1/FigS1b_spearmanr_per_bins_{hm1}_{hm2}.csv\",\n",
    "                           header=None)\n",
    "        df_r = df_r.iloc[::-1,:]\n",
    "\n",
    "        # plot\n",
    "        sns.heatmap(df_r,cmap=\"jet\",ax=ax[i],center=0,vmax=vmax_list[i],vmin=vmin_list[i],\n",
    "                    cbar=True,cbar_kws={\"orientation\":\"horizontal\"})\n",
    "\n",
    "        # format figure\n",
    "        ax[i].set_xlabel(hm2)\n",
    "        ax[i].set_ylabel(hm1)\n",
    "        ax[i].set_aspect('equal', adjustable='box')\n",
    "        ax[i].set_xticks(np.arange(0,101,25))\n",
    "        ax[i].set_yticks(np.arange(0,101,25))\n",
    "        ax[i].set_xticklabels([\"TSS\",\"25%\",\"50%\",\"75%\",\"TES\"],rotation=0)\n",
    "        ax[i].set_yticklabels([\"TES\",\"75%\",\"50%\",\"25%\",\"TSS\"],rotation=0)\n",
    "        ax[i].grid()\n",
    "        for spine in ax[i].spines.values():\n",
    "            spine.set_visible(True)\n",
    "            spine.set_linewidth(1)"
   ]
  },
  {
   "cell_type": "code",
   "execution_count": null,
   "id": "fe779e3b-c860-4736-bea0-274d4a4b65c0",
   "metadata": {},
   "outputs": [],
   "source": [
    "# Supplementary Fig. 1c\n",
    "file_path = \"../data/ChIP-seq/ChIP_H3K4me123_WT.rpkm.tsv\"\n",
    "df_chip = pd.read_csv(file_path, sep=\"\\t\", index_col=0)"
   ]
  },
  {
   "cell_type": "code",
   "execution_count": null,
   "id": "176d4bcc-a427-4e6f-b5b8-b5526e8053d7",
   "metadata": {},
   "outputs": [],
   "source": [
    "x = np.sqrt(df_chip[\"H3K4me2_WT\"])\n",
    "y = np.sqrt(df_chip[\"H3K4me3_WT\"])\n",
    "\n",
    "threshold = 5\n",
    "mask1 = (df_chip[\"H3K4me2_WT\"]>threshold)&(df_chip[\"H3K4me3_WT\"]>threshold) # Group 1\n",
    "mask2 = (df_chip[\"H3K4me2_WT\"]>threshold)&(df_chip[\"H3K4me3_WT\"]<=threshold) # Group 2\n",
    "mask3 = (df_chip[\"H3K4me2_WT\"]<=threshold)&(df_chip[\"H3K4me3_WT\"]>threshold) # Group 3\n",
    "mask4 = (df_chip[\"H3K4me2_WT\"]<=threshold)&(df_chip[\"H3K4me3_WT\"]<=threshold) # Group 4\n",
    "mask_list = [mask1,mask2,mask3,mask4]\n",
    "c_list = [\"tab:red\",\"tab:blue\",\"tab:orange\",\"tab:grey\"]\n",
    "\n",
    "# plot\n",
    "plt.figure(figsize=(5,5),dpi=200)\n",
    "for c,mask in zip(c_list,mask_list):\n",
    "    print(mask.sum())\n",
    "    plt.scatter(x[mask],y[mask],s=1,alpha=0.5,c=c)\n",
    "\n",
    "# format figrue\n",
    "plt.vlines(np.sqrt(5),0,10,color=\"k\")\n",
    "plt.hlines(np.sqrt(5),0,10,color=\"k\")\n",
    "plt.xlabel(\"H3K4me2\")\n",
    "plt.ylabel(\"H3K4me3\")\n",
    "plt.xlim(0,10)\n",
    "plt.ylim(0,10)"
   ]
  },
  {
   "cell_type": "code",
   "execution_count": null,
   "id": "e68d0e60-7de3-4a63-8b0e-b174b2074f4f",
   "metadata": {},
   "outputs": [],
   "source": [
    "# Supplementary Fig. 1f\n",
    "file_path = \"../data/ChIP-seq/ChIP_H3K4me2_H2A.Z_H2Aub_H3K27me3_WT.rpkm.tsv\"\n",
    "df_chip = pd.read_csv(file_path, sep=\"\\t\", index_col=0)\n",
    "\n",
    "hm_list = [\"H2A.Z\",\"H2Aub\",\"H3K27me3\"]\n",
    "\n",
    "for i in range(3):\n",
    "    for j in range(i+1,3):\n",
    "        hm1 = hm_list[i]\n",
    "        hm2 = hm_list[j]\n",
    "        x = np.sqrt(df_chip[f\"{hm1}_WT\"])\n",
    "        y = np.sqrt(df_chip[f\"{hm2}_WT\"])\n",
    "    \n",
    "        # plot\n",
    "        fig,ax = plt.subplots(1,1,figsize=(4,4))\n",
    "        sns.scatterplot(x=x,y=y,s=1,alpha=0.5,c=\"k\",ax=ax)\n",
    "    \n",
    "        # fomat figures\n",
    "        ax.set_xlim(0,np.percentile(x,99.9))\n",
    "        ax.set_ylim(0,np.percentile(y,99.9))\n",
    "    \n",
    "        # Spearman's R\n",
    "        r,p = spearmanr(x,y)\n",
    "        ax.set_title(\"$\\it{ρ}$\"+f\" = {r:4.3}\")"
   ]
  },
  {
   "cell_type": "code",
   "execution_count": null,
   "id": "4dcd1445-36d6-4e91-80bd-9ea5b6615d44",
   "metadata": {},
   "outputs": [],
   "source": []
  }
 ],
 "metadata": {
  "kernelspec": {
   "display_name": "Python 3 (ipykernel)",
   "language": "python",
   "name": "python3"
  },
  "language_info": {
   "codemirror_mode": {
    "name": "ipython",
    "version": 3
   },
   "file_extension": ".py",
   "mimetype": "text/x-python",
   "name": "python",
   "nbconvert_exporter": "python",
   "pygments_lexer": "ipython3",
   "version": "3.9.2"
  }
 },
 "nbformat": 4,
 "nbformat_minor": 5
}
