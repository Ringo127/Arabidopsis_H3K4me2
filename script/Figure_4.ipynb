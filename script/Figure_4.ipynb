{
 "cells": [
  {
   "cell_type": "code",
   "execution_count": null,
   "id": "9b37a63d-95ce-4f7b-838c-356629439d1d",
   "metadata": {},
   "outputs": [],
   "source": [
    "# import library\n",
    "import numpy as np\n",
    "import pandas as pd\n",
    "import matplotlib.pyplot as plt\n",
    "import seaborn as sns"
   ]
  },
  {
   "cell_type": "code",
   "execution_count": null,
   "id": "fc284aee-a744-4a15-9b89-16619e2adfc8",
   "metadata": {},
   "outputs": [],
   "source": [
    "# setting\n",
    "plt.rcParams['font.family']= 'sans-serif'\n",
    "plt.rcParams['font.sans-serif'] = ['Arial']\n",
    "plt.rcParams['font.size'] = 18\n",
    "plt.rcParams[\"figure.dpi\"] = 200"
   ]
  },
  {
   "cell_type": "code",
   "execution_count": null,
   "id": "641ae5ab-13b4-4648-99f5-2b01c0cff224",
   "metadata": {},
   "outputs": [],
   "source": [
    "# data\n",
    "file_path1 = \"../data/ChIP-seq/ChIP_H3K4me2_H2A.Z_H2Aub_H3K27me3_WT_jmj_clf.rpkm.tsv\"\n",
    "df_chip1 = pd.read_csv(file_path1, sep=\"\\t\", index_col=0)\n",
    "\n",
    "file_path2 = \"../data/ChIP-seq/ChIP_H3K4me2_H2A.Z_WT_arp6_pie1.rpkm.tsv\"\n",
    "df_chip2 = pd.read_csv(file_path2, sep=\"\\t\", index_col=0)\n",
    "\n",
    "file_path3 = \"../data/ChIP-seq/ChIP_H3K4me2_H2A.Z_H2Aub_WT_bmi1abc.rpkm.tsv\"\n",
    "df_chip3 = pd.read_csv(file_path3, sep=\"\\t\", index_col=0)"
   ]
  },
  {
   "cell_type": "code",
   "execution_count": null,
   "id": "9aea675f-01b8-499a-849e-aa7c0f0ed71c",
   "metadata": {},
   "outputs": [],
   "source": [
    "# target genes\n",
    "jmj_target = pd.read_csv(\"../data/list_of_target_genes/JMJ-target(n=2160).bed\",sep=\"\\t\",header=None).iloc[:,3]\n",
    "clf_target = pd.read_csv(\"../data/list_of_target_genes/CLF-target(n=3048).bed\",sep=\"\\t\",header=None).iloc[:,3]\n",
    "swr1_target = pd.read_csv(\"../data/list_of_target_genes/SWR1-C-target(n=6096).bed\",sep=\"\\t\",header=None).iloc[:,3]\n",
    "bmi1_target = pd.read_csv(\"../data/list_of_target_genes/BMI1-target(n=4982).bed\",sep=\"\\t\",header=None).iloc[:,3]"
   ]
  },
  {
   "cell_type": "code",
   "execution_count": null,
   "id": "d281fde9-a3a9-4662-9a06-b0948cface00",
   "metadata": {},
   "outputs": [],
   "source": [
    "# Fig. 4a,c,e,g\n",
    "fig, ax = plt.subplots(4,2,figsize=(9,20),gridspec_kw={\"hspace\":0.5,\"wspace\":0.1})\n",
    "\n",
    "hm_list = [\"H3K27me3\",\"H3K27me3\",\"H2A.Z\",\"H2Aub\"]\n",
    "df_list = [df_chip1,df_chip1,df_chip2,df_chip3]\n",
    "gt_list = [\"jmj\",\"clf\",\"pie1\",\"bmi1abc\"]\n",
    "target_list = [jmj_target,clf_target,swr1_target,bmi1_target]\n",
    "color_list = [\"tab:red\",\"blue\",\"blue\",\"blue\"]\n",
    "\n",
    "for i in range(4):\n",
    "    for j in range(2):\n",
    "        df = df_list[i]\n",
    "        hm = None\n",
    "        if j == 0:\n",
    "            hm = hm_list[i]\n",
    "        else:\n",
    "            hm = \"H3K4me2\"\n",
    "            \n",
    "        gt = gt_list[i]\n",
    "        mask = df.index.isin(target_list[i])\n",
    "        color = color_list[i]\n",
    "        \n",
    "        # plot\n",
    "        # non target genes\n",
    "        sns.scatterplot(data=df[~mask],\n",
    "                        x=f\"{hm}_WT_rep1\",\n",
    "                        y=f\"{hm}_{gt}_rep1\",\n",
    "                        s=2,alpha=0.5,ax=ax[i][j],color=\"tab:grey\")\n",
    "        # target genes\n",
    "        sns.scatterplot(data=df[mask],\n",
    "                        x=f\"{hm}_WT_rep1\",\n",
    "                        y=f\"{hm}_{gt}_rep1\",\n",
    "                        s=2,alpha=0.5,ax=ax[i][j],color=color)\n",
    "    \n",
    "        # format figure\n",
    "        x = df[f\"{hm}_WT_rep1\"]\n",
    "        ax[i][j].set_xlim(0,np.percentile(x,99))\n",
    "        ax[i][j].set_ylim(0,np.percentile(x,99))\n",
    "        ax[i][j].set_title(hm)\n",
    "        ax[i][j].set_xlabel(\"\")\n",
    "        ax[i][j].set_ylabel(\"\")\n",
    "        ax[i][j].set_aspect('equal', adjustable='box')"
   ]
  }
 ],
 "metadata": {
  "kernelspec": {
   "display_name": "Python 3 (ipykernel)",
   "language": "python",
   "name": "python3"
  },
  "language_info": {
   "codemirror_mode": {
    "name": "ipython",
    "version": 3
   },
   "file_extension": ".py",
   "mimetype": "text/x-python",
   "name": "python",
   "nbconvert_exporter": "python",
   "pygments_lexer": "ipython3",
   "version": "3.9.2"
  }
 },
 "nbformat": 4,
 "nbformat_minor": 5
}
