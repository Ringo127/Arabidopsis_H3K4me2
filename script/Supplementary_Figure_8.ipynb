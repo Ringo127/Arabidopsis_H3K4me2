{
 "cells": [
  {
   "cell_type": "code",
   "execution_count": null,
   "id": "31730990-d300-4f65-a949-9d631cee318f",
   "metadata": {},
   "outputs": [],
   "source": [
    "# import library\n",
    "import numpy as np\n",
    "import pandas as pd\n",
    "import matplotlib.pyplot as plt\n",
    "import seaborn as sns\n",
    "import random \n",
    "from scipy.stats import mannwhitneyu"
   ]
  },
  {
   "cell_type": "code",
   "execution_count": null,
   "id": "7ed1c050-8018-4366-81e1-be63e82da186",
   "metadata": {},
   "outputs": [],
   "source": [
    "# setting\n",
    "plt.rcParams['font.family']= 'sans-serif'\n",
    "plt.rcParams['font.sans-serif'] = ['Arial']\n",
    "plt.rcParams['font.size'] = 18\n",
    "plt.rcParams[\"figure.dpi\"] = 200"
   ]
  },
  {
   "cell_type": "code",
   "execution_count": null,
   "id": "4b52e0d8-99bd-4963-bed4-864b3fdc03d6",
   "metadata": {},
   "outputs": [],
   "source": [
    "# Supplementary Fig. 8a\n",
    "file_path = \"../previous_data/ChIP_H3K4me123_WT_atxr3.rpkm.tsv\"\n",
    "df_chip = pd.read_csv(file_path,sep=\"\\t\",index_col=0)"
   ]
  },
  {
   "cell_type": "code",
   "execution_count": null,
   "id": "f81de3c9-9baa-4cce-9de7-f51b27773a2c",
   "metadata": {},
   "outputs": [],
   "source": [
    "# List of H3K4me2 diel oscillating genes (DOGs)\n",
    "file_path = f\"../data/list_of_DOGs/H3K4me2_DOGs.bed\"\n",
    "H3K4me2_DOGs = pd.read_csv(file_path,sep=\"\\t\",header=None).iloc[:,3].values"
   ]
  },
  {
   "cell_type": "code",
   "execution_count": null,
   "id": "6c94c1c5-d854-4c8f-8758-1407ceb95c04",
   "metadata": {},
   "outputs": [],
   "source": [
    "mask = df_chip.index.isin(H3K4me2_DOGs)\n",
    "print(mask.sum())\n",
    "hm_list = [\"H3K4me1\",\"H3K4me2\",\"H3K4me3\"]\n",
    "\n",
    "fig,ax = plt.subplots(1,3,figsize=(15,5))\n",
    "for i,hm in enumerate(hm_list):\n",
    "    print(hm)\n",
    "    x = f\"{hm}_WT\"\n",
    "    y = f\"{hm}_atxr3\"\n",
    "\n",
    "    # plot\n",
    "    sns.scatterplot(data=df_chip[~mask],x=x,y=y,\n",
    "                    s=5,alpha=1,c=\"tab:grey\",ax=ax[i])\n",
    "\n",
    "    sns.scatterplot(data=df_chip[mask],x=x,y=y,\n",
    "                    s=5,alpha=1,color=\"red\",ax=ax[i])\n",
    "    \n",
    "    # format figure\n",
    "    ax[i].set_xlim(0,np.percentile(df_chip[x],99))\n",
    "    ax[i].set_ylim(0,np.percentile(df_chip[x],99))\n",
    "    ax[i].set_xlabel(\"\")\n",
    "    ax[i].set_ylabel(\"\")\n",
    "    ax[i].set_aspect('equal', adjustable='box')"
   ]
  },
  {
   "cell_type": "code",
   "execution_count": null,
   "id": "b4cd738c-0491-486a-9d44-4fef6dbf0589",
   "metadata": {},
   "outputs": [],
   "source": [
    "# Supplementary Fig. 8b\n",
    "random.seed(1)\n",
    "\n",
    "# H3K4me2 DOGs\n",
    "mask_dogs = df_chip.index.isin(H3K4me2_DOGs)\n",
    "N = mask_dogs.sum()\n",
    "df_chip_dogs = df_chip[mask_dogs]\n",
    "\n",
    "# H3K4me2 non-DOGs\n",
    "mask_non_dogs = df_chip.index.isin(random.sample(list(df_chip.index[~mask_dogs]),N))\n",
    "df_chip_non_dogs = df_chip[mask_non_dogs]\n",
    "\n",
    "#print(N,df_chip_dogs.index[:3],df_chip_non_dogs.index[:3])\n",
    "\n",
    "hm_list = [\"H3K4me1\",\"H3K4me2\",\"H3K4me3\"]\n",
    "fig, ax = plt.subplots(1,1)\n",
    "for i in range(3):\n",
    "    hm = hm_list[i]\n",
    "    data = {2*i:df_chip_dogs[f\"{hm}_atxr3\"]-df_chip_dogs[f\"{hm}_WT\"],\n",
    "            2*i+1:df_chip_non_dogs[f\"{hm}_atxr3\"]-df_chip_non_dogs[f\"{hm}_WT\"],}\n",
    "\n",
    "    # plot\n",
    "    sns.boxplot(data,palette=[\"red\",\"tab:grey\"])\n",
    "\n",
    "    # Mann-Whitney U test\n",
    "    p = mannwhitneyu(data[2*i], data[2*i+1], alternative=\"two-sided\")[1]\n",
    "    print(f\"{hm} : {p:.2e}\")\n",
    "\n",
    "# format figure\n",
    "ax.set_ylim(-50,30)\n",
    "ax.set_xticks([0.5,2.5,4.5])\n",
    "ax.set_xticklabels([\"H3K4me1\",\"H3K4me2\",\"H3K4me3\"])\n",
    "ax.spines['right'].set_visible(False)\n",
    "ax.spines['top'].set_visible(False)"
   ]
  },
  {
   "cell_type": "code",
   "execution_count": null,
   "id": "849bb4c0-5f08-4013-bba4-b46572dbef17",
   "metadata": {},
   "outputs": [],
   "source": []
  },
  {
   "cell_type": "code",
   "execution_count": null,
   "id": "67b44f07-6375-4a86-be74-6e528a7ccc88",
   "metadata": {},
   "outputs": [],
   "source": []
  }
 ],
 "metadata": {
  "kernelspec": {
   "display_name": "Python 3 (ipykernel)",
   "language": "python",
   "name": "python3"
  },
  "language_info": {
   "codemirror_mode": {
    "name": "ipython",
    "version": 3
   },
   "file_extension": ".py",
   "mimetype": "text/x-python",
   "name": "python",
   "nbconvert_exporter": "python",
   "pygments_lexer": "ipython3",
   "version": "3.9.2"
  }
 },
 "nbformat": 4,
 "nbformat_minor": 5
}
