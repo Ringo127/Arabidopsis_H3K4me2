{
 "cells": [
  {
   "cell_type": "code",
   "execution_count": null,
   "id": "61a330bd-2717-4c74-aa5f-5732ff0e1607",
   "metadata": {},
   "outputs": [],
   "source": [
    "# import library\n",
    "import numpy as np\n",
    "import pandas as pd\n",
    "import matplotlib.pyplot as plt\n",
    "import seaborn as sns\n",
    "from scipy.stats import spearmanr"
   ]
  },
  {
   "cell_type": "code",
   "execution_count": null,
   "id": "14ae9c6b-8642-4aa5-bec2-f8adda6db3b7",
   "metadata": {},
   "outputs": [],
   "source": [
    "# setting\n",
    "plt.rcParams['font.family']= 'sans-serif'\n",
    "plt.rcParams['font.sans-serif'] = ['Arial']\n",
    "plt.rcParams['font.size'] = 18\n",
    "plt.rcParams[\"figure.dpi\"] = 200"
   ]
  },
  {
   "cell_type": "code",
   "execution_count": null,
   "id": "0261ecd1-1b37-4fb2-bbed-bc73d4abf12f",
   "metadata": {},
   "outputs": [],
   "source": [
    "# Data\n",
    "file_path = \"../data/ChIP-seq/ChIP_H3K4me2_H2A.Z_WT_arp6_pie1.rpkm.tsv\"\n",
    "df_chip = pd.read_csv(file_path, sep=\"\\t\", index_col=0)\n",
    "swr1_target = pd.read_csv(\"../data/list_of_target_genes/SWR1-C-target(n=6096).bed\",sep=\"\\t\",header=None).iloc[:,3]\n",
    "df_chip"
   ]
  },
  {
   "cell_type": "code",
   "execution_count": null,
   "id": "38373464-f30c-4d20-90d1-365e9e86e2f3",
   "metadata": {},
   "outputs": [],
   "source": [
    "# difference\n",
    "hm_list = [\"H3\",\"H3K4me2\",\"H2A.Z\"]\n",
    "gt_list = [\"arp6\",\"pie1\"]\n",
    "dict_tmp = {}\n",
    "for hm in hm_list:\n",
    "    for gt in gt_list:\n",
    "        dict_tmp[f\"Δ{hm}_{gt}\"] = df_chip[f\"{hm}_{gt}_rep1\"] - df_chip[f\"{hm}_WT_rep1\"]\n",
    "\n",
    "df_diff = pd.DataFrame(dict_tmp)\n",
    "df_diff"
   ]
  },
  {
   "cell_type": "code",
   "execution_count": null,
   "id": "b8da22fa-98a4-408b-86be-e5094460c1de",
   "metadata": {},
   "outputs": [],
   "source": [
    "# Supplementary Fig. 5b\n",
    "fig,ax = plt.subplots(1,1,figsize=(4,4))\n",
    "hm = \"H2A.Z\"\n",
    "sns.scatterplot(data=df_diff,\n",
    "                x=f\"Δ{hm}_arp6\",\n",
    "                y=f\"Δ{hm}_pie1\",\n",
    "                s=2,alpha=0.5,c=\"tab:grey\")\n",
    "x = df_diff[f\"Δ{hm}_arp6\"]\n",
    "y = df_diff[f\"Δ{hm}_pie1\"]\n",
    "ax.set_xlim(np.percentile(x,0.1),np.percentile(x,99.9))\n",
    "ax.set_ylim(np.percentile(x,0.1),np.percentile(x,99.9))\n",
    "ax.set_aspect('equal', adjustable='box')\n",
    "ax.set_title(f\"ρ={spearmanr(x,y)[0]:.3f}\")"
   ]
  },
  {
   "cell_type": "code",
   "execution_count": null,
   "id": "76010759-d94a-4ec3-b7b6-3fe136529171",
   "metadata": {},
   "outputs": [],
   "source": [
    "# Supplementary Fig. 5d\n",
    "hm_list = [\"H2A.Z\",\"H3K4me2\"]\n",
    "mask = df_chip.index.isin(swr1_target)\n",
    "\n",
    "fig,ax = plt.subplots(1,2,figsize=(10,4))\n",
    "\n",
    "for i in range(2):\n",
    "    hm = hm_list[i]\n",
    "    print(hm)\n",
    "\n",
    "    # plot\n",
    "    sns.scatterplot(data=df_chip[~mask],\n",
    "                    x=f\"{hm}_WT_rep1\",\n",
    "                    y=f\"{hm}_arp6_rep1\",\n",
    "                    s=2,alpha=0.5,ax=ax[i],c=\"tab:grey\")\n",
    "    sns.scatterplot(data=df_chip[mask],\n",
    "                    x=f\"{hm}_WT_rep1\",\n",
    "                    y=f\"{hm}_arp6_rep1\",\n",
    "                    s=2,alpha=0.5,ax=ax[i],c=\"blue\")\n",
    "\n",
    "    # format figure\n",
    "    x = df_chip[f\"{hm}_WT_rep1\"]\n",
    "    ax[i].set_xlim(0,np.percentile(x,99))\n",
    "    ax[i].set_ylim(0,np.percentile(x,99))\n",
    "    ax[i].set_aspect('equal', adjustable='box')\n",
    "    ax[i].set_xlabel(f\"{hm} in WT\")\n",
    "    ax[i].set_ylabel(f\"{hm} in arp6\")"
   ]
  },
  {
   "cell_type": "code",
   "execution_count": null,
   "id": "96112fc0-db6c-432e-8028-9bde68989295",
   "metadata": {},
   "outputs": [],
   "source": [
    "# Supplementary Fig. 5e\n",
    "gt_list = [\"arp6\",\"pie1\"]\n",
    "\n",
    "fig,ax = plt.subplots(1,2,figsize=(10,4))\n",
    "\n",
    "for i in range(2):\n",
    "    gt = gt_list[i]\n",
    "\n",
    "    # plot\n",
    "    sns.scatterplot(data=df_diff,\n",
    "                    x=f\"ΔH2A.Z_{gt}\",\n",
    "                    y=f\"ΔH3K4me2_{gt}\",\n",
    "                    s=2,alpha=0.5,ax=ax[i],c=\"tab:grey\")\n",
    "\n",
    "    # format figure\n",
    "    x = df_diff[f\"ΔH2A.Z_{gt}\"]\n",
    "    y = df_diff[f\"ΔH3K4me2_{gt}\"]\n",
    "    ax[i].set_xlim(np.percentile(x,0.1),np.percentile(x,99.9))\n",
    "    ax[i].set_ylim(np.percentile(y,0.1),np.percentile(y,99.9))\n",
    "    ax[i].set_box_aspect(1)\n",
    "    ax[i].set_xlabel(f\"H2A.Z change in {gt}\")\n",
    "    ax[i].set_ylabel(f\"H3K4me2 change in {gt}\")\n",
    "\n",
    "    # spearman's R\n",
    "    r, _ = spearmanr(x,y)\n",
    "    print(f\"{gt} : {r:.2e}\")"
   ]
  },
  {
   "cell_type": "code",
   "execution_count": null,
   "id": "5f02a4f8-c5c1-48aa-8a7a-a6ac6885807d",
   "metadata": {},
   "outputs": [],
   "source": []
  },
  {
   "cell_type": "code",
   "execution_count": null,
   "id": "a0e589b3-b3e9-4af4-afce-4a56886403be",
   "metadata": {},
   "outputs": [],
   "source": []
  }
 ],
 "metadata": {
  "kernelspec": {
   "display_name": "Python 3 (ipykernel)",
   "language": "python",
   "name": "python3"
  },
  "language_info": {
   "codemirror_mode": {
    "name": "ipython",
    "version": 3
   },
   "file_extension": ".py",
   "mimetype": "text/x-python",
   "name": "python",
   "nbconvert_exporter": "python",
   "pygments_lexer": "ipython3",
   "version": "3.9.2"
  }
 },
 "nbformat": 4,
 "nbformat_minor": 5
}
