{
 "cells": [
  {
   "cell_type": "code",
   "execution_count": null,
   "id": "3003f375-465c-4532-900b-2bf6f966312d",
   "metadata": {},
   "outputs": [],
   "source": [
    "# import library\n",
    "import numpy as np\n",
    "import pandas as pd\n",
    "import matplotlib.pyplot as plt\n",
    "import seaborn as sns"
   ]
  },
  {
   "cell_type": "code",
   "execution_count": null,
   "id": "0d095075-eaaa-4f4a-9c83-4c21a0af73bc",
   "metadata": {},
   "outputs": [],
   "source": [
    "# setting\n",
    "plt.rcParams['font.family']= 'sans-serif'\n",
    "plt.rcParams['font.sans-serif'] = ['Arial']\n",
    "plt.rcParams['font.size'] = 18\n",
    "plt.rcParams[\"figure.dpi\"] = 200"
   ]
  },
  {
   "cell_type": "code",
   "execution_count": null,
   "id": "6bc3b590-be41-4f55-9add-fcafaf46db36",
   "metadata": {},
   "outputs": [],
   "source": [
    "# Supplementary Fig. 2a\n",
    "file_path = \"../data/ChIP-seq/ChIP_H3K4me2_H2A.Z_H2Aub_H3K27me3_WT_ldl3.rpkm.tsv\"\n",
    "df_chip = pd.read_csv(file_path, sep=\"\\t\", index_col=0)\n",
    "ldl3_target = pd.read_csv(\"../data/list_of_target_genes/LDL3-target(n=7115).bed\",sep=\"\\t\",header=None).iloc[:,3]"
   ]
  },
  {
   "cell_type": "code",
   "execution_count": null,
   "id": "9e771d7f-06d5-499e-af30-81d04ba9a685",
   "metadata": {},
   "outputs": [],
   "source": [
    "hm_list = [\"H3K4me2\",\"H2A.Z\",\"H2Aub\",\"H3K27me3\"]\n",
    "n = len(hm_list)\n",
    "\n",
    "mask = df_chip.index.isin(ldl3_target)\n",
    "\n",
    "fig, ax = plt.subplots(1,n,figsize=(5*n,5))\n",
    "\n",
    "for i in range(n):\n",
    "    hm = hm_list[i]\n",
    "\n",
    "    # plot\n",
    "    # non ldl3-target genes\n",
    "    sns.scatterplot(data=df_chip[~mask],\n",
    "                    x=f\"{hm}_WT_rep2\",\n",
    "                    y=f\"{hm}_ldl3_rep2\",\n",
    "                    s=2,alpha=0.5,ax=ax[i],color=\"tab:grey\")\n",
    "    # ldl3 target genes\n",
    "    sns.scatterplot(data=df_chip[mask],\n",
    "                    x=f\"{hm}_WT_rep2\",\n",
    "                    y=f\"{hm}_ldl3_rep2\",\n",
    "                    s=2,alpha=0.5,ax=ax[i],color=\"tab:red\")\n",
    "\n",
    "    # format figure\n",
    "    x = df_chip[f\"{hm}_WT_rep2\"]\n",
    "    ax[i].set_xlim(0,np.percentile(x,99))\n",
    "    ax[i].set_ylim(0,np.percentile(x,99))\n",
    "    ax[i].set_title(hm)\n",
    "    ax[i].set_xlabel(\"\")\n",
    "    ax[i].set_ylabel(\"\")\n",
    "    ax[i].set_aspect('equal', adjustable='box')"
   ]
  },
  {
   "cell_type": "code",
   "execution_count": null,
   "id": "c8dae35d-5d48-41f9-aaee-69e9e8952918",
   "metadata": {},
   "outputs": [],
   "source": [
    "# Supplementary Fig. 2c\n",
    "\n",
    "df_tmp = df_chip.loc[ldl3_target]\n",
    "\n",
    "plt.figure(figsize=(6,6))\n",
    "plt.rcParams['font.size'] = 15\n",
    "\n",
    "hm_list = [\"H2A.Z\", \"H2Aub\", \"H3K27me3\"]\n",
    "color_list = [\"#A3C7DF\", \"#EC9FA0\", \"#E36F70\", \"#DC494B\"]\n",
    "\n",
    "total_genes = len(df_tmp)\n",
    "\n",
    "for k in range(3):\n",
    "    hm = hm_list[k]\n",
    "    for i in range(2):\n",
    "        # classify genes into four group\n",
    "        a = (df_tmp[f\"{hm}_ldl3_rep{i+1}\"] - df_tmp[f\"{hm}_WT_rep{i+1}\"] < 0).sum()\n",
    "        b = (df_tmp[f\"{hm}_ldl3_rep{i+1}\"] - df_tmp[f\"{hm}_WT_rep{i+1}\"] < 2.5).sum()\n",
    "        c = (df_tmp[f\"{hm}_ldl3_rep{i+1}\"] - df_tmp[f\"{hm}_WT_rep{i+1}\"] < 5).sum()\n",
    "        d = total_genes\n",
    "\n",
    "        heights = [a, b - a, c - b, d - c]\n",
    "\n",
    "        bottom = 0\n",
    "        for j in range(4):\n",
    "            h = heights[j]\n",
    "            if h > 0:\n",
    "                # plot\n",
    "                plt.bar(2*k + i, h, bottom=bottom, color=color_list[j])\n",
    "\n",
    "                # show ratio of genes\n",
    "                percent = h / total_genes * 100\n",
    "                diff = None # fine-tuning of text position\n",
    "                color = None\n",
    "                if (k==2)&(j==2):\n",
    "                    diff = -100\n",
    "                    color = \"white\" if j<1 else \"black\"\n",
    "                elif (k==2)&(j==3):\n",
    "                    diff = 100\n",
    "                    color = \"white\" if j<1 else \"black\"                    \n",
    "                else:\n",
    "                    diff = 100\n",
    "                    color = \"black\"\n",
    "\n",
    "                plt.text(2*k + i, bottom + h/2 + diff,\n",
    "                         f\"{percent:.1f}%\",\n",
    "                         ha='center', va='center',\n",
    "                         fontsize=12,\n",
    "                         color=color)\n",
    "                bottom += h\n",
    "\n",
    "# format figure\n",
    "plt.xticks(np.arange(6), [\"rep1\", \"rep2\"] * 3)\n",
    "plt.show()"
   ]
  }
 ],
 "metadata": {
  "kernelspec": {
   "display_name": "Python 3 (ipykernel)",
   "language": "python",
   "name": "python3"
  },
  "language_info": {
   "codemirror_mode": {
    "name": "ipython",
    "version": 3
   },
   "file_extension": ".py",
   "mimetype": "text/x-python",
   "name": "python",
   "nbconvert_exporter": "python",
   "pygments_lexer": "ipython3",
   "version": "3.9.2"
  }
 },
 "nbformat": 4,
 "nbformat_minor": 5
}
