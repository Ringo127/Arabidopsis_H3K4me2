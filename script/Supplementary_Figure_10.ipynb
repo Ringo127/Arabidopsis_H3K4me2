{
 "cells": [
  {
   "cell_type": "code",
   "execution_count": null,
   "id": "2053af05-3032-4cd8-91eb-52c71e3a4c34",
   "metadata": {},
   "outputs": [],
   "source": [
    "# import library\n",
    "import numpy as np\n",
    "import pandas as pd\n",
    "import matplotlib.pyplot as plt\n",
    "import seaborn as sns\n",
    "from scipy import stats"
   ]
  },
  {
   "cell_type": "code",
   "execution_count": null,
   "id": "4799b8bf-22b3-4441-a7b2-31449422161f",
   "metadata": {},
   "outputs": [],
   "source": [
    "# setting\n",
    "plt.rcParams['font.family']= 'sans-serif'\n",
    "plt.rcParams['font.sans-serif'] = ['Arial']\n",
    "plt.rcParams['font.size'] = 18\n",
    "plt.rcParams[\"figure.dpi\"] = 200"
   ]
  },
  {
   "cell_type": "code",
   "execution_count": null,
   "id": "9bc64ddf-7577-4eca-bcc6-7899a1f53fd5",
   "metadata": {},
   "outputs": [],
   "source": [
    "# List of H3K4me2 diel oscillating genes (DOGs)\n",
    "file_path = f\"../data/list_of_DOGs/H3K4me2_DOGs.bed\"\n",
    "H3K4me2_DOGs = pd.read_csv(file_path,sep=\"\\t\",header=None).iloc[:,3].values"
   ]
  },
  {
   "cell_type": "code",
   "execution_count": null,
   "id": "20b64200-4ba6-45e2-a56b-cffbb1e3f422",
   "metadata": {},
   "outputs": [],
   "source": [
    "# Time-course ChIP-seq data in WT and atxr3\n",
    "file_path = \"../data/ChIP-seq/Time-course-ChIP_WT_atxr3_rep1.rpkm.tsv\"\n",
    "df_chip = pd.read_csv(file_path, sep=\"\\t\", index_col=0)\n",
    "\n",
    "# Time-course mRNA-seq data in WT and atxr3\n",
    "file_path = \"../data/RNA-seq/Time-course-RNA_WT_atxr3.rpkm.tsv\"\n",
    "df_rna = pd.read_csv(file_path, sep=\"\\t\", index_col=0)\n",
    "# mean of three replicates\n",
    "gt_list = [\"WT\",\"atxr3\"]\n",
    "df_rna_mean = np.sqrt(pd.DataFrame({f\"{gt_list[i]}_mRNA_ZT{6*j}\":df_rna.iloc[:,12*i+3*j:12*i+3*(j+1)].mean(axis=1) for i in range(2) for j in range(4)}))"
   ]
  },
  {
   "cell_type": "code",
   "execution_count": null,
   "id": "4698ad4f-1fc8-40c6-9a02-30694795c179",
   "metadata": {},
   "outputs": [],
   "source": [
    "df_all = df_chip.merge(df_rna_mean,left_index=True,right_index=True)\n",
    "df_all.head()"
   ]
  },
  {
   "cell_type": "code",
   "execution_count": null,
   "id": "1f139a42-ba9f-432e-82fd-e50728372200",
   "metadata": {},
   "outputs": [],
   "source": [
    "# Supplementary Fig. 10a-d\n",
    "tp_list = [\"ZT0\",\"ZT6\",\"ZT12\",\"ZT18\",\"ZT0\"]\n",
    "c_list = [\"black\",\"tab:orange\",\"tab:cyan\",\"tab:red\",\"tab:purple\"]\n",
    "\n",
    "fig, ax = plt.subplots(5,4,figsize=(20,30))\n",
    "\n",
    "for i,hm in enumerate([\"H3\",\"H3K4me2\",\"H3K4me3\",\"H2A.Z\",\"mRNA\"]):\n",
    "    mask = df_all.index.isin(H3K4me2_DOGs)\n",
    "    print(hm,mask.sum())\n",
    "    for j in range(4):\n",
    "        tp1 = tp_list[j]\n",
    "        tp2 = tp_list[j+1]\n",
    "        x = (df_all[f\"WT_{hm}_{tp2}\"] - df_all[f\"WT_{hm}_{tp1}\"])\n",
    "        y = (df_all[f\"atxr3_{hm}_{tp2}\"] - df_all[f\"atxr3_{hm}_{tp1}\"])\n",
    "\n",
    "        \n",
    "        # liner regression\n",
    "        slope, intercept, r_value, p_value, std_err = stats.linregress(x[mask], y[mask])\n",
    "\n",
    "        # plot\n",
    "        sns.regplot(x=x[mask],y=y[mask],ax=ax[i][j],color=c_list[i],\n",
    "                    scatter_kws={\"s\":5, \"color\":\"grey\"})\n",
    "\n",
    "        # format figure\n",
    "        xy = np.min([np.percentile(x[mask],99),-np.percentile(x[mask],1)])\n",
    "        ax[i][j].set_xlim(-xy,xy)\n",
    "        ax[i][j].set_ylim(-xy,xy)\n",
    "        ax[i][j].vlines(0,-xy,xy,color=\"k\",linestyle=\"--\")\n",
    "        ax[i][j].hlines(0,-xy,xy,color=\"k\",linestyle=\"--\")\n",
    "        ax[i][j].set_aspect('equal', adjustable='box')\n",
    "        ax[i][j].text(x=xy*-0.97,y=xy*0.75,\n",
    "                      s=f\"$y={slope:.2f}x{intercept:+.2f}$\\n$R^2={r_value**2:.2f}$\",\n",
    "                      c=c_list[i],fontsize=14)"
   ]
  },
  {
   "cell_type": "code",
   "execution_count": null,
   "id": "7215bf5c-17a3-4ba5-ad00-00316f55da18",
   "metadata": {
    "scrolled": true
   },
   "outputs": [],
   "source": [
    "# Supplementary Fig. 10e\n",
    "mask = df_all.index.isin(H3K4me2_DOGs)\n",
    "df_tmp = df_all[mask]\n",
    "\n",
    "# H3K4me2とH2A.Z\n",
    "hm_list = [\"H3K4me2\",\"H3K4me3\"]\n",
    "for k in range(2):\n",
    "    hm1 = \"H2A.Z\"\n",
    "    hm2 = hm_list[k]\n",
    "    print(hm1,hm2)\n",
    "\n",
    "    # Calculation of Spearman's R\n",
    "    R_matrix = np.zeros([4,4])\n",
    "    for i in range(4):\n",
    "        for j in range(4):\n",
    "            x = df_tmp[f\"atxr3_{hm2}_ZT{6*j}\"] / df_tmp[f\"WT_{hm2}_ZT{6*j}\"]\n",
    "            y = df_tmp[f\"atxr3_{hm1}_ZT{6*i}\"] / df_tmp[f\"WT_{hm1}_ZT{6*i}\"]\n",
    "            R_matrix[i][j] = spearmanr(x,y)[0]\n",
    "\n",
    "    # plot\n",
    "    plt.figure(figsize=(8,5))\n",
    "    sns.heatmap(R_matrix, cmap=\"bwr\", center=0,vmax=0.4,vmin=-0.4,\n",
    "                square=True, annot=True, fmt='.3f',\n",
    "                linewidths=.5)\n",
    "    plt.xticks([])\n",
    "    plt.yticks([])"
   ]
  },
  {
   "cell_type": "code",
   "execution_count": null,
   "id": "7def5b23-b7fa-4c29-bb69-f1a6500ebb50",
   "metadata": {},
   "outputs": [],
   "source": []
  },
  {
   "cell_type": "code",
   "execution_count": null,
   "id": "50451005-c537-4ff9-a318-450c5c1ba59c",
   "metadata": {},
   "outputs": [],
   "source": []
  }
 ],
 "metadata": {
  "kernelspec": {
   "display_name": "Python 3 (ipykernel)",
   "language": "python",
   "name": "python3"
  },
  "language_info": {
   "codemirror_mode": {
    "name": "ipython",
    "version": 3
   },
   "file_extension": ".py",
   "mimetype": "text/x-python",
   "name": "python",
   "nbconvert_exporter": "python",
   "pygments_lexer": "ipython3",
   "version": "3.9.2"
  }
 },
 "nbformat": 4,
 "nbformat_minor": 5
}
